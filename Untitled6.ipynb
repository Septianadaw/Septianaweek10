{
  "nbformat": 4,
  "nbformat_minor": 0,
  "metadata": {
    "colab": {
      "provenance": [],
      "authorship_tag": "ABX9TyMTdFQmLTp5coA6aWZAM29g",
      "include_colab_link": true
    },
    "kernelspec": {
      "name": "python3",
      "display_name": "Python 3"
    },
    "language_info": {
      "name": "python"
    }
  },
  "cells": [
    {
      "cell_type": "markdown",
      "metadata": {
        "id": "view-in-github",
        "colab_type": "text"
      },
      "source": [
        "<a href=\"https://colab.research.google.com/github/Septianadaw/Septianaweek10/blob/main/Untitled6.ipynb\" target=\"_parent\"><img src=\"https://colab.research.google.com/assets/colab-badge.svg\" alt=\"Open In Colab\"/></a>"
      ]
    },
    {
      "cell_type": "code",
      "execution_count": null,
      "metadata": {
        "colab": {
          "base_uri": "https://localhost:8080/"
        },
        "id": "8wwwsisq2pT8",
        "outputId": "e6c20c46-c0da-4cce-f223-74b17300ca59"
      },
      "outputs": [
        {
          "output_type": "stream",
          "name": "stdout",
          "text": [
            "Hello from a function\n"
          ]
        }
      ],
      "source": [
        "def my_function():\n",
        "  print(\"Hello from a function\")\n",
        "my_function()"
      ]
    },
    {
      "cell_type": "code",
      "source": [
        "def my_function(fname):\n",
        "  print(fname + \" Sitohang\")\n",
        "\n",
        "my_function(\"Toha\")\n",
        "my_function(\"Tohir\")\n",
        "my_function(\"Tobi\")"
      ],
      "metadata": {
        "colab": {
          "base_uri": "https://localhost:8080/"
        },
        "id": "VZG4uQ8j3iON",
        "outputId": "51ff079e-5957-42b1-f10c-266e1780fe55"
      },
      "execution_count": null,
      "outputs": [
        {
          "output_type": "stream",
          "name": "stdout",
          "text": [
            "Toha Sitohang\n",
            "Tohir Sitohang\n",
            "Tobi Sitohang\n"
          ]
        }
      ]
    },
    {
      "cell_type": "code",
      "source": [
        "#This function expects 2 arguments, and gets 2 arguments:\n",
        "def my_function(fname, lname):\n",
        "  print(fname + \" \" + lname)\n",
        "\n",
        "my_function(\"Toha\", \"Sitohang\")"
      ],
      "metadata": {
        "colab": {
          "base_uri": "https://localhost:8080/"
        },
        "id": "A6BoXJsq3k8i",
        "outputId": "f082ad0a-429f-4af4-b570-5126e5bd1dcd"
      },
      "execution_count": null,
      "outputs": [
        {
          "output_type": "stream",
          "name": "stdout",
          "text": [
            "Toha Sitohang\n"
          ]
        }
      ]
    },
    {
      "cell_type": "code",
      "source": [
        "#If the number of arguments is unknown, add a * before the parameter name:\n",
        "\n",
        "def my_function(*kids):\n",
        "  print(\"The youngest child is \" + kids[2])\n",
        "\n",
        "my_function(\"Lekyung\", \"Jimin\", \"Tukimin\")"
      ],
      "metadata": {
        "colab": {
          "base_uri": "https://localhost:8080/"
        },
        "id": "6pMLljib3sBC",
        "outputId": "873029e3-c045-423c-b822-f6581e413e88"
      },
      "execution_count": null,
      "outputs": [
        {
          "output_type": "stream",
          "name": "stdout",
          "text": [
            "The youngest child is Tukimin\n"
          ]
        }
      ]
    },
    {
      "cell_type": "code",
      "source": [
        "def my_function(child3, child2, child1):\n",
        "  print(\"The youngest child is \" + child3)\n",
        "\n",
        "my_function(child1 = \"Lekyung\", child2 = \"Tukimin\", child3 = \"Jimin\")"
      ],
      "metadata": {
        "colab": {
          "base_uri": "https://localhost:8080/"
        },
        "id": "nilaT4Au36q6",
        "outputId": "f0060cfa-0912-494b-e263-14b47ad5b6dc"
      },
      "execution_count": null,
      "outputs": [
        {
          "output_type": "stream",
          "name": "stdout",
          "text": [
            "The youngest child is Jimin\n"
          ]
        }
      ]
    },
    {
      "cell_type": "code",
      "source": [
        "#If the number of keyword arguments is unknown, add a double ** before the parameter name:\n",
        "def my_function(**kid):\n",
        "  print(\"His last name is \" + kid[\"lname\"])\n",
        "\n",
        "my_function(fname = \"Thanos\", lname = \"ireng Man\")"
      ],
      "metadata": {
        "colab": {
          "base_uri": "https://localhost:8080/"
        },
        "id": "6XwZz4uf3-cC",
        "outputId": "47171da9-ea29-4bfa-c679-cbf4a644e9d4"
      },
      "execution_count": null,
      "outputs": [
        {
          "output_type": "stream",
          "name": "stdout",
          "text": [
            "His last name is ireng Man\n"
          ]
        }
      ]
    },
    {
      "cell_type": "code",
      "source": [
        "def my_function(country = \"Indonesia\"):\n",
        "  print(\"I am from \" + country)\n",
        "\n",
        "my_function(\"UEA\")\n",
        "my_function(\"Arab Saudi\")\n",
        "my_function()\n",
        "my_function(\"Malaysia\")"
      ],
      "metadata": {
        "colab": {
          "base_uri": "https://localhost:8080/"
        },
        "id": "nIJdQtGk4ZQL",
        "outputId": "41522af4-9d00-4233-8ddc-8187edafd5e5"
      },
      "execution_count": null,
      "outputs": [
        {
          "output_type": "stream",
          "name": "stdout",
          "text": [
            "I am from UEA\n",
            "I am from Arab Saudi\n",
            "I am from Indonesia\n",
            "I am from Malaysia\n"
          ]
        }
      ]
    },
    {
      "cell_type": "code",
      "source": [
        "def my_function(food):\n",
        "  for x in food:\n",
        "    print(x)\n",
        "\n",
        "fruits = [\"apple\", \"banana\", \"cherry\"]\n",
        "\n",
        "my_function(fruits)"
      ],
      "metadata": {
        "colab": {
          "base_uri": "https://localhost:8080/"
        },
        "id": "69cDm9qC4b66",
        "outputId": "0a66a9ac-68b0-4436-d328-a8990bafbf62"
      },
      "execution_count": null,
      "outputs": [
        {
          "output_type": "stream",
          "name": "stdout",
          "text": [
            "apple\n",
            "banana\n",
            "cherry\n"
          ]
        }
      ]
    },
    {
      "cell_type": "code",
      "source": [
        "def my_function(x):\n",
        "  return 5 * x\n",
        "\n",
        "print(my_function(3))\n",
        "print(my_function(5))\n",
        "print(my_function(9))"
      ],
      "metadata": {
        "colab": {
          "base_uri": "https://localhost:8080/"
        },
        "id": "nmx5mx654fXT",
        "outputId": "35bf8b8d-b102-496e-da95-375961fd3069"
      },
      "execution_count": null,
      "outputs": [
        {
          "output_type": "stream",
          "name": "stdout",
          "text": [
            "15\n",
            "25\n",
            "45\n"
          ]
        }
      ]
    },
    {
      "cell_type": "code",
      "source": [
        "def myfunction():\n",
        "  pass"
      ],
      "metadata": {
        "id": "nX795wNP4hli"
      },
      "execution_count": null,
      "outputs": []
    },
    {
      "cell_type": "code",
      "source": [
        "#Recursion Example\n",
        "def tri_recursion(k):\n",
        "  if(k > 0):\n",
        "    result = k + tri_recursion(k - 1)\n",
        "    print(result)\n",
        "  else:\n",
        "    result = 0\n",
        "  return result\n",
        "\n",
        "print(\"\\n\\nRecursion Example Results\")\n",
        "tri_recursion(1)"
      ],
      "metadata": {
        "colab": {
          "base_uri": "https://localhost:8080/"
        },
        "id": "Khwo3BlU4kzL",
        "outputId": "f41f079c-70d7-4b5f-e410-174afbe6dea0"
      },
      "execution_count": null,
      "outputs": [
        {
          "output_type": "stream",
          "name": "stdout",
          "text": [
            "\n",
            "\n",
            "Recursion Example Results\n",
            "1\n"
          ]
        },
        {
          "output_type": "execute_result",
          "data": {
            "text/plain": [
              "1"
            ]
          },
          "metadata": {},
          "execution_count": 24
        }
      ]
    },
    {
      "cell_type": "markdown",
      "source": [
        "WEEKLY EXERCISE 1"
      ],
      "metadata": {
        "id": "pc3WJXkV5qU7"
      }
    },
    {
      "cell_type": "code",
      "source": [
        "def faktorial(x):\n",
        "    if x == 1:\n",
        "        return 1\n",
        "    else:\n",
        "        return (x * faktorial(x-1))\n",
        "\n",
        "faktorial(4)"
      ],
      "metadata": {
        "colab": {
          "base_uri": "https://localhost:8080/"
        },
        "id": "OsNdYi184njq",
        "outputId": "3e6449b3-03c5-4f1d-9876-65df7fc82330"
      },
      "execution_count": null,
      "outputs": [
        {
          "output_type": "execute_result",
          "data": {
            "text/plain": [
              "24"
            ]
          },
          "metadata": {},
          "execution_count": 54
        }
      ]
    },
    {
      "cell_type": "markdown",
      "source": [
        "WEEKLY EXERCISE 2"
      ],
      "metadata": {
        "id": "oKiSf7ra5tZL"
      }
    },
    {
      "cell_type": "code",
      "source": [
        "\n",
        "def Luaslingkaran(jarijari):\n",
        "  return 3.14 * jarijari**2\n",
        "def Luaspersegi(Panjangsisi):\n",
        "  return Panjangsisi ** 2\n",
        "def Luassegitiga(Panjangalas, Tinggi):\n",
        "  return 0.5 * Panjangalas * Tinggi\n",
        "\n",
        "while True:\n",
        "    print('\\nPilihan Perhitungan :')\n",
        "    print('1. Luas Lingkaran :')\n",
        "    print('2. Luas Persegi :')\n",
        "    print('3. Luas Segitiga :')\n",
        "    print('4. Selesai')\n",
        "\n",
        "    pilihanperhitungan = input('Masukkan Pilihan (1,2,3,4):')\n",
        "\n",
        "    if pilihanperhitungan == '1':\n",
        "      jarijari = float(input('Masukkan Jari-Jari Lingkaran :'))\n",
        "      Luas = Luaslingkaran(jarijari)\n",
        "      print('Luas Lingkaran :', Luas)\n",
        "    elif pilihanperhitungan == '2':\n",
        "      Panjangsisi = float(input('Masukkan Panjang Sisi Persegi :'))\n",
        "      Luas = Luaspersegi(Panjangsisi)\n",
        "      print('Luas Persegi :', Luas)\n",
        "    elif pilihanperhitungan == '3':\n",
        "      Panjangalas = float(input('Masukkan Panjang Alas Segitiga :'))\n",
        "      Tinggi = float(input('Masukkan Tinggi Segitiga :'))\n",
        "      Luas = Luassegitiga(Panjangalas, Tinggi)\n",
        "      print('Luas Segitiga :', Luas)\n",
        "    elif pilihanperhitungan == '4':\n",
        "      break\n",
        "    else:\n",
        "      print('Pilihan tidak valid. Silahkan ciba lagi.')"
      ],
      "metadata": {
        "colab": {
          "base_uri": "https://localhost:8080/"
        },
        "id": "ARO8iCud4uOr",
        "outputId": "750c818a-30a8-41a9-fefa-b33d44288a90"
      },
      "execution_count": 4,
      "outputs": [
        {
          "name": "stdout",
          "output_type": "stream",
          "text": [
            "\n",
            "Pilihan Perhitungan :\n",
            "1. Luas Lingkaran :\n",
            "2. Luas Persegi :\n",
            "3. Luas Segitiga :\n",
            "4. Selesai\n",
            "Masukkan Pilihan (1,2,3,4):1\n",
            "Masukkan Jari-Jari Lingkaran :8\n",
            "Luas Lingkaran : 200.96\n",
            "\n",
            "Pilihan Perhitungan :\n",
            "1. Luas Lingkaran :\n",
            "2. Luas Persegi :\n",
            "3. Luas Segitiga :\n",
            "4. Selesai\n",
            "Masukkan Pilihan (1,2,3,4):2\n",
            "Masukkan Panjang Sisi Persegi :20\n",
            "Luas Persegi : 400.0\n",
            "\n",
            "Pilihan Perhitungan :\n",
            "1. Luas Lingkaran :\n",
            "2. Luas Persegi :\n",
            "3. Luas Segitiga :\n",
            "4. Selesai\n",
            "Masukkan Pilihan (1,2,3,4):3\n",
            "Masukkan Panjang Alas Segitiga :26\n",
            "Masukkan Tinggi Segitiga :30\n",
            "Luas Segitiga : 390.0\n",
            "\n",
            "Pilihan Perhitungan :\n",
            "1. Luas Lingkaran :\n",
            "2. Luas Persegi :\n",
            "3. Luas Segitiga :\n",
            "4. Selesai\n",
            "Masukkan Pilihan (1,2,3,4):4\n"
          ]
        }
      ]
    }
  ]
}